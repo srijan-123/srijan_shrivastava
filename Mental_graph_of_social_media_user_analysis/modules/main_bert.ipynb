{
  "metadata": {
    "kernelspec": {
      "language": "python",
      "display_name": "Python 3",
      "name": "python3"
    },
    "language_info": {
      "name": "python",
      "version": "3.7.12",
      "mimetype": "text/x-python",
      "codemirror_mode": {
        "name": "ipython",
        "version": 3
      },
      "pygments_lexer": "ipython3",
      "nbconvert_exporter": "python",
      "file_extension": ".py"
    },
    "colab": {
      "provenance": [],
      "collapsed_sections": []
    },
    "accelerator": "GPU"
  },
  "nbformat_minor": 0,
  "nbformat": 4,
  "cells": [
    {
      "cell_type": "code",
      "source": [
        "import numpy as np # linear algebra\n",
        "import pandas as pd # data processing, CSV file I/O (e.g. pd.read_csv)\n",
        "\n"
      ],
      "metadata": {
        "_uuid": "8f2839f25d086af736a60e9eeb907d3b93b6e0e5",
        "_cell_guid": "b1076dfc-b9ad-4769-8c92-a6c4dae69d19",
        "execution": {
          "iopub.status.busy": "2022-09-26T04:51:58.230502Z",
          "iopub.execute_input": "2022-09-26T04:51:58.231649Z",
          "iopub.status.idle": "2022-09-26T04:51:58.251057Z",
          "shell.execute_reply.started": "2022-09-26T04:51:58.231618Z",
          "shell.execute_reply": "2022-09-26T04:51:58.249699Z"
        },
        "trusted": true,
        "id": "UMy_O9xKU_b6"
      },
      "execution_count": 25,
      "outputs": []
    },
    {
      "cell_type": "code",
      "source": [
        "def plot_model_performance_graph(hist_df):\n",
        "    \n",
        "    fig, axes = plt.subplots(1,2 , figsize = (15,6))\n",
        "\n",
        "    # properties  matplotlib.patch.Patch \n",
        "    props = dict(boxstyle='round', facecolor='aqua', alpha=0.4)\n",
        "\n",
        "    ax = axes[0]\n",
        "\n",
        "    hist_df.plot(y = ['loss','val_loss'], ax = ax, colormap=\"cividis\")\n",
        "\n",
        "    lossmin = hist_df['loss'].min()\n",
        "\n",
        "    testmin = hist_df['val_loss'].min()\n",
        "\n",
        "    # little beautification\n",
        "    txtstr = \"Min Loss: \\n Training : {:7.4f}\\n Testing   : {:7.4f}\".format(lossmin,\n",
        "                                                                            testmin) #text to plot\n",
        "\n",
        "    # place a text box in upper left in axes coords\n",
        "\n",
        "    ax.text(0.4, 0.95, txtstr, transform=ax.transAxes, fontsize=14,\n",
        "            verticalalignment='top', bbox=props)\n",
        "\n",
        "    ax.set_xlabel(\"Epochs\")\n",
        "\n",
        "    ax.set_ylabel(\"Loss\")\n",
        "\n",
        "    ax.grid();\n",
        "\n",
        "    ax = axes[1]\n",
        "\n",
        "    hist_df.plot( y = ['sparse_categorical_accuracy', 'val_sparse_categorical_accuracy'], ax = ax, colormap=\"cividis\")\n",
        "    acc = hist_df['sparse_categorical_accuracy'].values\n",
        "    # little beautification\n",
        "    accmax = hist_df['sparse_categorical_accuracy'].max()\n",
        "    testmax = hist_df['val_sparse_categorical_accuracy'].max()\n",
        "    txtstr = \"Max Accuracy: \\n Training : {:7.4f}\\n Testing   : {:7.4f}\".format(accmax,\n",
        "                                                                                testmax) #text to plot\n",
        "\n",
        "    # place a text box in upper left in axes coords\n",
        "\n",
        "    ax.text(0.4, 0.5, txtstr, transform=ax.transAxes, fontsize=14,\n",
        "            verticalalignment='top', bbox=props)\n",
        "\n",
        "    ax.set_xlabel(\"Epochs\")\n",
        "    ax.set_ylabel(\"Accuracy\")\n",
        "    ax.grid();\n",
        "    plt.tight_layout()"
      ],
      "metadata": {
        "id": "7Fcj5Ko76Ep4"
      },
      "execution_count": 272,
      "outputs": []
    },
    {
      "cell_type": "code",
      "source": [
        "!pip install -q -U \"tensorflow-text==2.8.*\""
      ],
      "metadata": {
        "execution": {
          "iopub.status.busy": "2022-09-26T04:51:58.396289Z",
          "iopub.execute_input": "2022-09-26T04:51:58.396693Z",
          "iopub.status.idle": "2022-09-26T04:53:44.614990Z",
          "shell.execute_reply.started": "2022-09-26T04:51:58.396664Z",
          "shell.execute_reply": "2022-09-26T04:53:44.613430Z"
        },
        "trusted": true,
        "colab": {
          "base_uri": "https://localhost:8080/"
        },
        "id": "diRyoc72U_cP",
        "outputId": "f94fa86b-0e99-4b47-a7f7-d4bf61247908"
      },
      "execution_count": 2,
      "outputs": [
        {
          "output_type": "stream",
          "name": "stdout",
          "text": [
            "\u001b[K     |████████████████████████████████| 4.9 MB 37.0 MB/s \n",
            "\u001b[?25h"
          ]
        }
      ]
    },
    {
      "cell_type": "code",
      "source": [
        "from google.colab import drive\n",
        "drive.mount('/content/drive')"
      ],
      "metadata": {
        "colab": {
          "base_uri": "https://localhost:8080/"
        },
        "id": "dcxEw30tVTzU",
        "outputId": "54e6b867-81d1-4bd8-e20b-2f7d37feb194"
      },
      "execution_count": 3,
      "outputs": [
        {
          "output_type": "stream",
          "name": "stdout",
          "text": [
            "Mounted at /content/drive\n"
          ]
        }
      ]
    },
    {
      "cell_type": "code",
      "source": [
        "pip install -q tf-models-official==2.7.0"
      ],
      "metadata": {
        "execution": {
          "iopub.status.busy": "2022-09-26T04:53:44.620131Z",
          "iopub.execute_input": "2022-09-26T04:53:44.620670Z",
          "iopub.status.idle": "2022-09-26T04:54:53.175532Z",
          "shell.execute_reply.started": "2022-09-26T04:53:44.620621Z",
          "shell.execute_reply": "2022-09-26T04:54:53.173585Z"
        },
        "trusted": true,
        "colab": {
          "base_uri": "https://localhost:8080/"
        },
        "id": "eDUa_-VuU_cR",
        "outputId": "6d45cea1-2ee9-41a5-ba95-3e04b84b7358"
      },
      "execution_count": 4,
      "outputs": [
        {
          "output_type": "stream",
          "name": "stdout",
          "text": [
            "\u001b[K     |████████████████████████████████| 1.8 MB 28.0 MB/s \n",
            "\u001b[K     |████████████████████████████████| 1.3 MB 67.1 MB/s \n",
            "\u001b[K     |████████████████████████████████| 99 kB 9.9 MB/s \n",
            "\u001b[K     |████████████████████████████████| 43 kB 2.0 MB/s \n",
            "\u001b[K     |████████████████████████████████| 352 kB 29.7 MB/s \n",
            "\u001b[K     |████████████████████████████████| 1.1 MB 58.5 MB/s \n",
            "\u001b[K     |████████████████████████████████| 116 kB 70.3 MB/s \n",
            "\u001b[K     |████████████████████████████████| 238 kB 79.2 MB/s \n",
            "\u001b[?25h  Building wheel for py-cpuinfo (setup.py) ... \u001b[?25l\u001b[?25hdone\n",
            "  Building wheel for seqeval (setup.py) ... \u001b[?25l\u001b[?25hdone\n"
          ]
        }
      ]
    },
    {
      "cell_type": "code",
      "source": [
        "pip install nlpaug"
      ],
      "metadata": {
        "id": "2V9oxQnGLFyc"
      },
      "execution_count": null,
      "outputs": []
    },
    {
      "cell_type": "code",
      "source": [
        "import functools\n",
        "import os\n",
        "import shutil\n",
        "import tensorflow_text as text\n",
        "import tensorflow as tf\n",
        "import tensorflow_hub as hub\n",
        "import tensorflow_text as text\n",
        "from official.nlp import optimization  # to create AdamW optimizer\n",
        "import matplotlib.pyplot as plt\n",
        "import pandas as pd\n",
        "import numpy as np\n",
        "from sklearn.preprocessing import LabelEncoder\n",
        "from sklearn.model_selection import train_test_split"
      ],
      "metadata": {
        "execution": {
          "iopub.status.busy": "2022-09-26T04:54:53.177993Z",
          "iopub.execute_input": "2022-09-26T04:54:53.178537Z",
          "iopub.status.idle": "2022-09-26T04:54:58.593138Z",
          "shell.execute_reply.started": "2022-09-26T04:54:53.178439Z",
          "shell.execute_reply": "2022-09-26T04:54:58.591740Z"
        },
        "trusted": true,
        "id": "foploFi-U_cT"
      },
      "execution_count": 26,
      "outputs": []
    },
    {
      "cell_type": "markdown",
      "source": [
        "# Importing the dataset"
      ],
      "metadata": {
        "id": "RkjgyxzWU_cV"
      }
    },
    {
      "cell_type": "code",
      "source": [
        "AUTOTUNE = tf.data.AUTOTUNE\n",
        "seed = 42\n",
        "train_df = pd.read_csv('/content/merged_cleaned.csv')"
      ],
      "metadata": {
        "execution": {
          "iopub.status.busy": "2022-09-26T05:15:43.540609Z",
          "iopub.execute_input": "2022-09-26T05:15:43.541025Z",
          "iopub.status.idle": "2022-09-26T05:15:43.556569Z",
          "shell.execute_reply.started": "2022-09-26T05:15:43.540996Z",
          "shell.execute_reply": "2022-09-26T05:15:43.555091Z"
        },
        "trusted": true,
        "id": "2KUGEug2U_cc"
      },
      "execution_count": 27,
      "outputs": []
    },
    {
      "cell_type": "code",
      "source": [
        "print(train_df.head())\n",
        "train_df.columns"
      ],
      "metadata": {
        "execution": {
          "iopub.status.busy": "2022-09-26T05:15:43.736374Z",
          "iopub.execute_input": "2022-09-26T05:15:43.736766Z",
          "iopub.status.idle": "2022-09-26T05:15:43.753260Z",
          "shell.execute_reply.started": "2022-09-26T05:15:43.736738Z",
          "shell.execute_reply": "2022-09-26T05:15:43.751548Z"
        },
        "trusted": true,
        "colab": {
          "base_uri": "https://localhost:8080/"
        },
        "id": "Sp-Is9--U_ce",
        "outputId": "402554a9-9b5a-409e-a11a-cdfc927d039b"
      },
      "execution_count": 28,
      "outputs": [
        {
          "output_type": "stream",
          "name": "stdout",
          "text": [
            "                        username  \\\n",
            "0       ytComments_Common Indian   \n",
            "1  ytComments_Course Facilitator   \n",
            "2           ytComments_Akhi Sucs   \n",
            "3          ytComments_kumarvinay   \n",
            "4       ytComments_Tinku Tanveer   \n",
            "\n",
            "                                       orig_sentence  \\\n",
            "0  Salute to the extraordinary resolve, stamina a...   \n",
            "1  RSS is down now! Modi ki kacchi on fire too! N...   \n",
            "2                             BJP BHAGAO DESH BACHAO   \n",
            "3  Don't worry sambit patra jald hi satta hath se...   \n",
            "4           Joor ka jhatka dhire se\\nJai ho Congress   \n",
            "\n",
            "                                    cleaned_sentence  category sub-category  \n",
            "0  salute extraordinary resolve stamen courage co...  positive          NaN  \n",
            "1  r modi ki kacchi fire might talk kacchi baat n...  negative    criticism  \n",
            "2                             bjp bhagao desh bachao  negative    criticism  \n",
            "3  dont worry sambit patra jald hi satta hath se ...  negative    criticism  \n",
            "4            joor ka jhatka dhire se jai ho congress  positive          NaN  \n"
          ]
        },
        {
          "output_type": "execute_result",
          "data": {
            "text/plain": [
              "Index(['username', 'orig_sentence', 'cleaned_sentence', 'category',\n",
              "       'sub-category'],\n",
              "      dtype='object')"
            ]
          },
          "metadata": {},
          "execution_count": 28
        }
      ]
    },
    {
      "cell_type": "code",
      "source": [
        "X_train = train_df.loc[train_df['category'] == 'negative']"
      ],
      "metadata": {
        "execution": {
          "iopub.status.busy": "2022-09-26T05:15:43.828485Z",
          "iopub.execute_input": "2022-09-26T05:15:43.829204Z",
          "iopub.status.idle": "2022-09-26T05:15:43.842473Z",
          "shell.execute_reply.started": "2022-09-26T05:15:43.829174Z",
          "shell.execute_reply": "2022-09-26T05:15:43.840949Z"
        },
        "trusted": true,
        "id": "4nbeZbl5U_co"
      },
      "execution_count": 29,
      "outputs": []
    },
    {
      "cell_type": "code",
      "source": [
        "def changen(x):\n",
        "    if x == 'critisism':\n",
        "        return 'criticism'\n",
        "    elif x == 'anger':\n",
        "        return 'hate'\n",
        "    elif x == 'sarcasm' or x == 'sadness':\n",
        "        return 'criticism'\n",
        "    elif x == 'offencive':\n",
        "        return 'hate'\n",
        "    elif x == 'anti-national':\n",
        "        return 'hate'\n",
        "    else:\n",
        "        return x"
      ],
      "metadata": {
        "execution": {
          "iopub.status.busy": "2022-09-26T05:15:43.969923Z",
          "iopub.execute_input": "2022-09-26T05:15:43.971039Z",
          "iopub.status.idle": "2022-09-26T05:15:43.979419Z",
          "shell.execute_reply.started": "2022-09-26T05:15:43.970996Z",
          "shell.execute_reply": "2022-09-26T05:15:43.977944Z"
        },
        "trusted": true,
        "id": "mGvgd6mZU_cr"
      },
      "execution_count": 30,
      "outputs": []
    },
    {
      "cell_type": "code",
      "source": [
        "X_train['sub-category'] = X_train['sub-category'].apply(changen)"
      ],
      "metadata": {
        "execution": {
          "iopub.status.busy": "2022-09-26T05:15:44.186239Z",
          "iopub.execute_input": "2022-09-26T05:15:44.187210Z",
          "iopub.status.idle": "2022-09-26T05:15:44.197202Z",
          "shell.execute_reply.started": "2022-09-26T05:15:44.187166Z",
          "shell.execute_reply": "2022-09-26T05:15:44.195711Z"
        },
        "trusted": true,
        "colab": {
          "base_uri": "https://localhost:8080/"
        },
        "id": "3yHkv2-LU_ct",
        "outputId": "4e64e542-91a6-4c01-d1a4-a30dcb3fbe09"
      },
      "execution_count": 31,
      "outputs": [
        {
          "output_type": "stream",
          "name": "stderr",
          "text": [
            "/usr/local/lib/python3.7/dist-packages/ipykernel_launcher.py:1: SettingWithCopyWarning: \n",
            "A value is trying to be set on a copy of a slice from a DataFrame.\n",
            "Try using .loc[row_indexer,col_indexer] = value instead\n",
            "\n",
            "See the caveats in the documentation: https://pandas.pydata.org/pandas-docs/stable/user_guide/indexing.html#returning-a-view-versus-a-copy\n",
            "  \"\"\"Entry point for launching an IPython kernel.\n"
          ]
        }
      ]
    },
    {
      "cell_type": "code",
      "source": [
        "X_train['sub-category'].value_counts()"
      ],
      "metadata": {
        "execution": {
          "iopub.status.busy": "2022-09-26T05:15:44.266549Z",
          "iopub.execute_input": "2022-09-26T05:15:44.266874Z",
          "iopub.status.idle": "2022-09-26T05:15:44.277284Z",
          "shell.execute_reply.started": "2022-09-26T05:15:44.266846Z",
          "shell.execute_reply": "2022-09-26T05:15:44.275806Z"
        },
        "trusted": true,
        "colab": {
          "base_uri": "https://localhost:8080/"
        },
        "id": "TZgq6uLTU_cu",
        "outputId": "9de5e67c-0407-41c1-b105-0261a0cf8583"
      },
      "execution_count": 32,
      "outputs": [
        {
          "output_type": "execute_result",
          "data": {
            "text/plain": [
              "criticism    1495\n",
              "hate          213\n",
              "Name: sub-category, dtype: int64"
            ]
          },
          "metadata": {},
          "execution_count": 32
        }
      ]
    },
    {
      "cell_type": "code",
      "source": [
        "X_train.to_csv('Tweets.csv',index=None)"
      ],
      "metadata": {
        "execution": {
          "iopub.status.busy": "2022-09-26T05:15:44.384654Z",
          "iopub.execute_input": "2022-09-26T05:15:44.386421Z",
          "iopub.status.idle": "2022-09-26T05:15:44.399543Z",
          "shell.execute_reply.started": "2022-09-26T05:15:44.386372Z",
          "shell.execute_reply": "2022-09-26T05:15:44.398086Z"
        },
        "trusted": true,
        "id": "FBXFUWh5U_cv"
      },
      "execution_count": 33,
      "outputs": []
    },
    {
      "cell_type": "code",
      "source": [],
      "metadata": {
        "id": "jmw8eSwgW85_"
      },
      "execution_count": 271,
      "outputs": []
    },
    {
      "cell_type": "code",
      "source": [
        "X_train"
      ],
      "metadata": {
        "colab": {
          "base_uri": "https://localhost:8080/",
          "height": 424
        },
        "id": "W3FqD5nu0pKf",
        "outputId": "73e84c88-38de-4d23-e899-ce40369a1206"
      },
      "execution_count": 72,
      "outputs": [
        {
          "output_type": "execute_result",
          "data": {
            "text/plain": [
              "                           username  \\\n",
              "0     ytComments_Course Facilitator   \n",
              "1              ytComments_Akhi Sucs   \n",
              "2             ytComments_kumarvinay   \n",
              "3                   ytComments_Wall   \n",
              "4          ytComments_Samuel Joseph   \n",
              "...                             ...   \n",
              "1735     tweets_tweets_iDwatchesyou   \n",
              "1736   tweets_tweets_ArunRajGopalan   \n",
              "1737      tweets_tweets_Winay_Yadav   \n",
              "1738  tweets_tweets_modernityisghey   \n",
              "1739    tweets_tweets_Pratik_writes   \n",
              "\n",
              "                                          orig_sentence  \\\n",
              "0     RSS is down now! Modi ki kacchi on fire too! N...   \n",
              "1                                BJP BHAGAO DESH BACHAO   \n",
              "2     Don't worry sambit patra jald hi satta hath se...   \n",
              "3                    Congress should not have done that   \n",
              "4     Nowadays politics is centered around what one'...   \n",
              "...                                                 ...   \n",
              "1735  This #theswaddle must be #Islamophobia\\nHow ca...   \n",
              "1736  @drsg87 @FmShah @BDUTT @AlinejadMasih Not just...   \n",
              "1737  #Islam \\n#Islamophobia \\n#HinduLivesMatters \\n...   \n",
              "1738  @AqquaPanda Beyond taking an L, that was a dis...   \n",
              "1739  #Islamophobia in cricket? \\n\\nYeah! That's you...   \n",
              "\n",
              "                                       cleaned_sentence  category sub-category  \n",
              "0     r modi ki kacchi fire might talk kacchi baat n...  negative    criticism  \n",
              "1                                bjp bhagao desh bachao  negative    criticism  \n",
              "2     dont worry sambit patra jald hi satta hath se ...  negative    criticism  \n",
              "3                                          congress not  negative    criticism  \n",
              "4     nowadays politics center around eat wear etcan...  negative    criticism  \n",
              "...                                                 ...       ...          ...  \n",
              "1735  must speak truth everyone know everyone ignore...  negative    criticism  \n",
              "1736  not thing supremacist piglet tow god god line ...  negative         hate  \n",
              "1737                     aatank ka koi dharam nahi hota  negative    criticism  \n",
              "1738  beyond take l disgust performance vaush comple...  negative    criticism  \n",
              "1739  cricket yeah thats contribution verify social ...  negative    criticism  \n",
              "\n",
              "[1708 rows x 5 columns]"
            ],
            "text/html": [
              "\n",
              "  <div id=\"df-7bc84743-4185-4327-bdef-4875e877290b\">\n",
              "    <div class=\"colab-df-container\">\n",
              "      <div>\n",
              "<style scoped>\n",
              "    .dataframe tbody tr th:only-of-type {\n",
              "        vertical-align: middle;\n",
              "    }\n",
              "\n",
              "    .dataframe tbody tr th {\n",
              "        vertical-align: top;\n",
              "    }\n",
              "\n",
              "    .dataframe thead th {\n",
              "        text-align: right;\n",
              "    }\n",
              "</style>\n",
              "<table border=\"1\" class=\"dataframe\">\n",
              "  <thead>\n",
              "    <tr style=\"text-align: right;\">\n",
              "      <th></th>\n",
              "      <th>username</th>\n",
              "      <th>orig_sentence</th>\n",
              "      <th>cleaned_sentence</th>\n",
              "      <th>category</th>\n",
              "      <th>sub-category</th>\n",
              "    </tr>\n",
              "  </thead>\n",
              "  <tbody>\n",
              "    <tr>\n",
              "      <th>0</th>\n",
              "      <td>ytComments_Course Facilitator</td>\n",
              "      <td>RSS is down now! Modi ki kacchi on fire too! N...</td>\n",
              "      <td>r modi ki kacchi fire might talk kacchi baat n...</td>\n",
              "      <td>negative</td>\n",
              "      <td>criticism</td>\n",
              "    </tr>\n",
              "    <tr>\n",
              "      <th>1</th>\n",
              "      <td>ytComments_Akhi Sucs</td>\n",
              "      <td>BJP BHAGAO DESH BACHAO</td>\n",
              "      <td>bjp bhagao desh bachao</td>\n",
              "      <td>negative</td>\n",
              "      <td>criticism</td>\n",
              "    </tr>\n",
              "    <tr>\n",
              "      <th>2</th>\n",
              "      <td>ytComments_kumarvinay</td>\n",
              "      <td>Don't worry sambit patra jald hi satta hath se...</td>\n",
              "      <td>dont worry sambit patra jald hi satta hath se ...</td>\n",
              "      <td>negative</td>\n",
              "      <td>criticism</td>\n",
              "    </tr>\n",
              "    <tr>\n",
              "      <th>3</th>\n",
              "      <td>ytComments_Wall</td>\n",
              "      <td>Congress should not have done that</td>\n",
              "      <td>congress not</td>\n",
              "      <td>negative</td>\n",
              "      <td>criticism</td>\n",
              "    </tr>\n",
              "    <tr>\n",
              "      <th>4</th>\n",
              "      <td>ytComments_Samuel Joseph</td>\n",
              "      <td>Nowadays politics is centered around what one'...</td>\n",
              "      <td>nowadays politics center around eat wear etcan...</td>\n",
              "      <td>negative</td>\n",
              "      <td>criticism</td>\n",
              "    </tr>\n",
              "    <tr>\n",
              "      <th>...</th>\n",
              "      <td>...</td>\n",
              "      <td>...</td>\n",
              "      <td>...</td>\n",
              "      <td>...</td>\n",
              "      <td>...</td>\n",
              "    </tr>\n",
              "    <tr>\n",
              "      <th>1735</th>\n",
              "      <td>tweets_tweets_iDwatchesyou</td>\n",
              "      <td>This #theswaddle must be #Islamophobia\\nHow ca...</td>\n",
              "      <td>must speak truth everyone know everyone ignore...</td>\n",
              "      <td>negative</td>\n",
              "      <td>criticism</td>\n",
              "    </tr>\n",
              "    <tr>\n",
              "      <th>1736</th>\n",
              "      <td>tweets_tweets_ArunRajGopalan</td>\n",
              "      <td>@drsg87 @FmShah @BDUTT @AlinejadMasih Not just...</td>\n",
              "      <td>not thing supremacist piglet tow god god line ...</td>\n",
              "      <td>negative</td>\n",
              "      <td>hate</td>\n",
              "    </tr>\n",
              "    <tr>\n",
              "      <th>1737</th>\n",
              "      <td>tweets_tweets_Winay_Yadav</td>\n",
              "      <td>#Islam \\n#Islamophobia \\n#HinduLivesMatters \\n...</td>\n",
              "      <td>aatank ka koi dharam nahi hota</td>\n",
              "      <td>negative</td>\n",
              "      <td>criticism</td>\n",
              "    </tr>\n",
              "    <tr>\n",
              "      <th>1738</th>\n",
              "      <td>tweets_tweets_modernityisghey</td>\n",
              "      <td>@AqquaPanda Beyond taking an L, that was a dis...</td>\n",
              "      <td>beyond take l disgust performance vaush comple...</td>\n",
              "      <td>negative</td>\n",
              "      <td>criticism</td>\n",
              "    </tr>\n",
              "    <tr>\n",
              "      <th>1739</th>\n",
              "      <td>tweets_tweets_Pratik_writes</td>\n",
              "      <td>#Islamophobia in cricket? \\n\\nYeah! That's you...</td>\n",
              "      <td>cricket yeah thats contribution verify social ...</td>\n",
              "      <td>negative</td>\n",
              "      <td>criticism</td>\n",
              "    </tr>\n",
              "  </tbody>\n",
              "</table>\n",
              "<p>1708 rows × 5 columns</p>\n",
              "</div>\n",
              "      <button class=\"colab-df-convert\" onclick=\"convertToInteractive('df-7bc84743-4185-4327-bdef-4875e877290b')\"\n",
              "              title=\"Convert this dataframe to an interactive table.\"\n",
              "              style=\"display:none;\">\n",
              "        \n",
              "  <svg xmlns=\"http://www.w3.org/2000/svg\" height=\"24px\"viewBox=\"0 0 24 24\"\n",
              "       width=\"24px\">\n",
              "    <path d=\"M0 0h24v24H0V0z\" fill=\"none\"/>\n",
              "    <path d=\"M18.56 5.44l.94 2.06.94-2.06 2.06-.94-2.06-.94-.94-2.06-.94 2.06-2.06.94zm-11 1L8.5 8.5l.94-2.06 2.06-.94-2.06-.94L8.5 2.5l-.94 2.06-2.06.94zm10 10l.94 2.06.94-2.06 2.06-.94-2.06-.94-.94-2.06-.94 2.06-2.06.94z\"/><path d=\"M17.41 7.96l-1.37-1.37c-.4-.4-.92-.59-1.43-.59-.52 0-1.04.2-1.43.59L10.3 9.45l-7.72 7.72c-.78.78-.78 2.05 0 2.83L4 21.41c.39.39.9.59 1.41.59.51 0 1.02-.2 1.41-.59l7.78-7.78 2.81-2.81c.8-.78.8-2.07 0-2.86zM5.41 20L4 18.59l7.72-7.72 1.47 1.35L5.41 20z\"/>\n",
              "  </svg>\n",
              "      </button>\n",
              "      \n",
              "  <style>\n",
              "    .colab-df-container {\n",
              "      display:flex;\n",
              "      flex-wrap:wrap;\n",
              "      gap: 12px;\n",
              "    }\n",
              "\n",
              "    .colab-df-convert {\n",
              "      background-color: #E8F0FE;\n",
              "      border: none;\n",
              "      border-radius: 50%;\n",
              "      cursor: pointer;\n",
              "      display: none;\n",
              "      fill: #1967D2;\n",
              "      height: 32px;\n",
              "      padding: 0 0 0 0;\n",
              "      width: 32px;\n",
              "    }\n",
              "\n",
              "    .colab-df-convert:hover {\n",
              "      background-color: #E2EBFA;\n",
              "      box-shadow: 0px 1px 2px rgba(60, 64, 67, 0.3), 0px 1px 3px 1px rgba(60, 64, 67, 0.15);\n",
              "      fill: #174EA6;\n",
              "    }\n",
              "\n",
              "    [theme=dark] .colab-df-convert {\n",
              "      background-color: #3B4455;\n",
              "      fill: #D2E3FC;\n",
              "    }\n",
              "\n",
              "    [theme=dark] .colab-df-convert:hover {\n",
              "      background-color: #434B5C;\n",
              "      box-shadow: 0px 1px 3px 1px rgba(0, 0, 0, 0.15);\n",
              "      filter: drop-shadow(0px 1px 2px rgba(0, 0, 0, 0.3));\n",
              "      fill: #FFFFFF;\n",
              "    }\n",
              "  </style>\n",
              "\n",
              "      <script>\n",
              "        const buttonEl =\n",
              "          document.querySelector('#df-7bc84743-4185-4327-bdef-4875e877290b button.colab-df-convert');\n",
              "        buttonEl.style.display =\n",
              "          google.colab.kernel.accessAllowed ? 'block' : 'none';\n",
              "\n",
              "        async function convertToInteractive(key) {\n",
              "          const element = document.querySelector('#df-7bc84743-4185-4327-bdef-4875e877290b');\n",
              "          const dataTable =\n",
              "            await google.colab.kernel.invokeFunction('convertToInteractive',\n",
              "                                                     [key], {});\n",
              "          if (!dataTable) return;\n",
              "\n",
              "          const docLinkHtml = 'Like what you see? Visit the ' +\n",
              "            '<a target=\"_blank\" href=https://colab.research.google.com/notebooks/data_table.ipynb>data table notebook</a>'\n",
              "            + ' to learn more about interactive tables.';\n",
              "          element.innerHTML = '';\n",
              "          dataTable['output_type'] = 'display_data';\n",
              "          await google.colab.output.renderOutput(dataTable, element);\n",
              "          const docLink = document.createElement('div');\n",
              "          docLink.innerHTML = docLinkHtml;\n",
              "          element.appendChild(docLink);\n",
              "        }\n",
              "      </script>\n",
              "    </div>\n",
              "  </div>\n",
              "  "
            ]
          },
          "metadata": {},
          "execution_count": 72
        }
      ]
    },
    {
      "cell_type": "code",
      "source": [
        "X_aug = X_train[X_train['sub-category'] == 'hate']"
      ],
      "metadata": {
        "id": "eSPC0FdltNhd"
      },
      "execution_count": 46,
      "outputs": []
    },
    {
      "cell_type": "code",
      "source": [
        "X_aug.reset_index(drop=True,inplace =True)"
      ],
      "metadata": {
        "id": "X4r9Bqppwy_C"
      },
      "execution_count": 50,
      "outputs": []
    },
    {
      "cell_type": "code",
      "source": [
        "import nlpaug.augmenter.word as naw\n",
        "aug = naw.SynonymAug(aug_src='wordnet',aug_max=6)\n",
        "lst = []\n",
        "for i in X_aug.cleaned_sentence:\n",
        "  lst.append(aug.augment(i, n=6))"
      ],
      "metadata": {
        "id": "-4LWk_LYxTEH"
      },
      "execution_count": 122,
      "outputs": []
    },
    {
      "cell_type": "code",
      "source": [
        "lst2 = []\n",
        "for i in lst:\n",
        "  for j in i:\n",
        "    lst2.append(j)"
      ],
      "metadata": {
        "id": "VAISLQ3f30lI"
      },
      "execution_count": 123,
      "outputs": []
    },
    {
      "cell_type": "code",
      "source": [],
      "metadata": {
        "id": "R6Rt0yJW5NqU"
      },
      "execution_count": 123,
      "outputs": []
    },
    {
      "cell_type": "code",
      "source": [
        "aug_df = pd.DataFrame({\"cleaned_sentence\" : lst2 , \"category\" : ['negative' for i in range(len(lst2))] ,\"sub-category\" : ['hate' for i in range(len(lst2))]} )"
      ],
      "metadata": {
        "id": "XcG0vz6NzEnT"
      },
      "execution_count": 124,
      "outputs": []
    },
    {
      "cell_type": "code",
      "source": [
        "aug_df"
      ],
      "metadata": {
        "colab": {
          "base_uri": "https://localhost:8080/",
          "height": 424
        },
        "id": "1qEmIH2A5dpp",
        "outputId": "e155100a-4530-4014-b454-85ce40988f49"
      },
      "execution_count": 125,
      "outputs": [
        {
          "output_type": "execute_result",
          "data": {
            "text/plain": [
              "                                       cleaned_sentence  category sub-category\n",
              "0     time comingwe muslim ready fate allah know com...  negative         hate\n",
              "1     time comingwe muslim ready destiny allah have ...  negative         hate\n",
              "2     time comingwe muslim quick fate allah fuck con...  negative         hate\n",
              "3     sentence comingwe muslim quick fate allah know...  negative         hate\n",
              "4     time comingwe muslim ready destiny allah know ...  negative         hate\n",
              "...                                                 ...       ...          ...\n",
              "1273  not thing supremacist piglet towage deity god ...  negative         hate\n",
              "1274  non matter supremacist piglet tow god deity li...  negative         hate\n",
              "1275  non thing supremacist piglet tow god god line ...  negative         hate\n",
              "1276  not thing supremacist piglet tow god deity lin...  negative         hate\n",
              "1277  not thing supremacist piglet tow idol divinity...  negative         hate\n",
              "\n",
              "[1278 rows x 3 columns]"
            ],
            "text/html": [
              "\n",
              "  <div id=\"df-4f2969e2-f728-4e19-beab-76382956404c\">\n",
              "    <div class=\"colab-df-container\">\n",
              "      <div>\n",
              "<style scoped>\n",
              "    .dataframe tbody tr th:only-of-type {\n",
              "        vertical-align: middle;\n",
              "    }\n",
              "\n",
              "    .dataframe tbody tr th {\n",
              "        vertical-align: top;\n",
              "    }\n",
              "\n",
              "    .dataframe thead th {\n",
              "        text-align: right;\n",
              "    }\n",
              "</style>\n",
              "<table border=\"1\" class=\"dataframe\">\n",
              "  <thead>\n",
              "    <tr style=\"text-align: right;\">\n",
              "      <th></th>\n",
              "      <th>cleaned_sentence</th>\n",
              "      <th>category</th>\n",
              "      <th>sub-category</th>\n",
              "    </tr>\n",
              "  </thead>\n",
              "  <tbody>\n",
              "    <tr>\n",
              "      <th>0</th>\n",
              "      <td>time comingwe muslim ready fate allah know com...</td>\n",
              "      <td>negative</td>\n",
              "      <td>hate</td>\n",
              "    </tr>\n",
              "    <tr>\n",
              "      <th>1</th>\n",
              "      <td>time comingwe muslim ready destiny allah have ...</td>\n",
              "      <td>negative</td>\n",
              "      <td>hate</td>\n",
              "    </tr>\n",
              "    <tr>\n",
              "      <th>2</th>\n",
              "      <td>time comingwe muslim quick fate allah fuck con...</td>\n",
              "      <td>negative</td>\n",
              "      <td>hate</td>\n",
              "    </tr>\n",
              "    <tr>\n",
              "      <th>3</th>\n",
              "      <td>sentence comingwe muslim quick fate allah know...</td>\n",
              "      <td>negative</td>\n",
              "      <td>hate</td>\n",
              "    </tr>\n",
              "    <tr>\n",
              "      <th>4</th>\n",
              "      <td>time comingwe muslim ready destiny allah know ...</td>\n",
              "      <td>negative</td>\n",
              "      <td>hate</td>\n",
              "    </tr>\n",
              "    <tr>\n",
              "      <th>...</th>\n",
              "      <td>...</td>\n",
              "      <td>...</td>\n",
              "      <td>...</td>\n",
              "    </tr>\n",
              "    <tr>\n",
              "      <th>1273</th>\n",
              "      <td>not thing supremacist piglet towage deity god ...</td>\n",
              "      <td>negative</td>\n",
              "      <td>hate</td>\n",
              "    </tr>\n",
              "    <tr>\n",
              "      <th>1274</th>\n",
              "      <td>non matter supremacist piglet tow god deity li...</td>\n",
              "      <td>negative</td>\n",
              "      <td>hate</td>\n",
              "    </tr>\n",
              "    <tr>\n",
              "      <th>1275</th>\n",
              "      <td>non thing supremacist piglet tow god god line ...</td>\n",
              "      <td>negative</td>\n",
              "      <td>hate</td>\n",
              "    </tr>\n",
              "    <tr>\n",
              "      <th>1276</th>\n",
              "      <td>not thing supremacist piglet tow god deity lin...</td>\n",
              "      <td>negative</td>\n",
              "      <td>hate</td>\n",
              "    </tr>\n",
              "    <tr>\n",
              "      <th>1277</th>\n",
              "      <td>not thing supremacist piglet tow idol divinity...</td>\n",
              "      <td>negative</td>\n",
              "      <td>hate</td>\n",
              "    </tr>\n",
              "  </tbody>\n",
              "</table>\n",
              "<p>1278 rows × 3 columns</p>\n",
              "</div>\n",
              "      <button class=\"colab-df-convert\" onclick=\"convertToInteractive('df-4f2969e2-f728-4e19-beab-76382956404c')\"\n",
              "              title=\"Convert this dataframe to an interactive table.\"\n",
              "              style=\"display:none;\">\n",
              "        \n",
              "  <svg xmlns=\"http://www.w3.org/2000/svg\" height=\"24px\"viewBox=\"0 0 24 24\"\n",
              "       width=\"24px\">\n",
              "    <path d=\"M0 0h24v24H0V0z\" fill=\"none\"/>\n",
              "    <path d=\"M18.56 5.44l.94 2.06.94-2.06 2.06-.94-2.06-.94-.94-2.06-.94 2.06-2.06.94zm-11 1L8.5 8.5l.94-2.06 2.06-.94-2.06-.94L8.5 2.5l-.94 2.06-2.06.94zm10 10l.94 2.06.94-2.06 2.06-.94-2.06-.94-.94-2.06-.94 2.06-2.06.94z\"/><path d=\"M17.41 7.96l-1.37-1.37c-.4-.4-.92-.59-1.43-.59-.52 0-1.04.2-1.43.59L10.3 9.45l-7.72 7.72c-.78.78-.78 2.05 0 2.83L4 21.41c.39.39.9.59 1.41.59.51 0 1.02-.2 1.41-.59l7.78-7.78 2.81-2.81c.8-.78.8-2.07 0-2.86zM5.41 20L4 18.59l7.72-7.72 1.47 1.35L5.41 20z\"/>\n",
              "  </svg>\n",
              "      </button>\n",
              "      \n",
              "  <style>\n",
              "    .colab-df-container {\n",
              "      display:flex;\n",
              "      flex-wrap:wrap;\n",
              "      gap: 12px;\n",
              "    }\n",
              "\n",
              "    .colab-df-convert {\n",
              "      background-color: #E8F0FE;\n",
              "      border: none;\n",
              "      border-radius: 50%;\n",
              "      cursor: pointer;\n",
              "      display: none;\n",
              "      fill: #1967D2;\n",
              "      height: 32px;\n",
              "      padding: 0 0 0 0;\n",
              "      width: 32px;\n",
              "    }\n",
              "\n",
              "    .colab-df-convert:hover {\n",
              "      background-color: #E2EBFA;\n",
              "      box-shadow: 0px 1px 2px rgba(60, 64, 67, 0.3), 0px 1px 3px 1px rgba(60, 64, 67, 0.15);\n",
              "      fill: #174EA6;\n",
              "    }\n",
              "\n",
              "    [theme=dark] .colab-df-convert {\n",
              "      background-color: #3B4455;\n",
              "      fill: #D2E3FC;\n",
              "    }\n",
              "\n",
              "    [theme=dark] .colab-df-convert:hover {\n",
              "      background-color: #434B5C;\n",
              "      box-shadow: 0px 1px 3px 1px rgba(0, 0, 0, 0.15);\n",
              "      filter: drop-shadow(0px 1px 2px rgba(0, 0, 0, 0.3));\n",
              "      fill: #FFFFFF;\n",
              "    }\n",
              "  </style>\n",
              "\n",
              "      <script>\n",
              "        const buttonEl =\n",
              "          document.querySelector('#df-4f2969e2-f728-4e19-beab-76382956404c button.colab-df-convert');\n",
              "        buttonEl.style.display =\n",
              "          google.colab.kernel.accessAllowed ? 'block' : 'none';\n",
              "\n",
              "        async function convertToInteractive(key) {\n",
              "          const element = document.querySelector('#df-4f2969e2-f728-4e19-beab-76382956404c');\n",
              "          const dataTable =\n",
              "            await google.colab.kernel.invokeFunction('convertToInteractive',\n",
              "                                                     [key], {});\n",
              "          if (!dataTable) return;\n",
              "\n",
              "          const docLinkHtml = 'Like what you see? Visit the ' +\n",
              "            '<a target=\"_blank\" href=https://colab.research.google.com/notebooks/data_table.ipynb>data table notebook</a>'\n",
              "            + ' to learn more about interactive tables.';\n",
              "          element.innerHTML = '';\n",
              "          dataTable['output_type'] = 'display_data';\n",
              "          await google.colab.output.renderOutput(dataTable, element);\n",
              "          const docLink = document.createElement('div');\n",
              "          docLink.innerHTML = docLinkHtml;\n",
              "          element.appendChild(docLink);\n",
              "        }\n",
              "      </script>\n",
              "    </div>\n",
              "  </div>\n",
              "  "
            ]
          },
          "metadata": {},
          "execution_count": 125
        }
      ]
    },
    {
      "cell_type": "code",
      "source": [],
      "metadata": {
        "id": "ZDeTRY_ex1Cq"
      },
      "execution_count": 125,
      "outputs": []
    },
    {
      "cell_type": "markdown",
      "source": [
        "# Main Code stars here\n"
      ],
      "metadata": {
        "id": "HztkU0eKXMWE"
      }
    },
    {
      "cell_type": "code",
      "source": [],
      "metadata": {
        "id": "yTy8uONg2r0R"
      },
      "execution_count": 125,
      "outputs": []
    },
    {
      "cell_type": "code",
      "source": [],
      "metadata": {
        "id": "ebzBs5QdxSNc"
      },
      "execution_count": 125,
      "outputs": []
    },
    {
      "cell_type": "code",
      "source": [
        "X_train = pd.read_csv('./Tweets.csv')"
      ],
      "metadata": {
        "execution": {
          "iopub.status.busy": "2022-09-26T05:15:44.548948Z",
          "iopub.execute_input": "2022-09-26T05:15:44.549838Z",
          "iopub.status.idle": "2022-09-26T05:15:44.563755Z",
          "shell.execute_reply.started": "2022-09-26T05:15:44.549807Z",
          "shell.execute_reply": "2022-09-26T05:15:44.562359Z"
        },
        "trusted": true,
        "id": "T8bBgilQU_cw"
      },
      "execution_count": 126,
      "outputs": []
    },
    {
      "cell_type": "code",
      "source": [
        "X_train.head()"
      ],
      "metadata": {
        "execution": {
          "iopub.status.busy": "2022-09-26T05:15:44.718248Z",
          "iopub.execute_input": "2022-09-26T05:15:44.719003Z",
          "iopub.status.idle": "2022-09-26T05:15:44.732297Z",
          "shell.execute_reply.started": "2022-09-26T05:15:44.718973Z",
          "shell.execute_reply": "2022-09-26T05:15:44.730929Z"
        },
        "trusted": true,
        "colab": {
          "base_uri": "https://localhost:8080/",
          "height": 206
        },
        "id": "3XXeyS5WU_cx",
        "outputId": "8b76b02a-505c-44b3-b3a7-ca1de492b53e"
      },
      "execution_count": 127,
      "outputs": [
        {
          "output_type": "execute_result",
          "data": {
            "text/plain": [
              "                        username  \\\n",
              "0  ytComments_Course Facilitator   \n",
              "1           ytComments_Akhi Sucs   \n",
              "2          ytComments_kumarvinay   \n",
              "3                ytComments_Wall   \n",
              "4       ytComments_Samuel Joseph   \n",
              "\n",
              "                                       orig_sentence  \\\n",
              "0  RSS is down now! Modi ki kacchi on fire too! N...   \n",
              "1                             BJP BHAGAO DESH BACHAO   \n",
              "2  Don't worry sambit patra jald hi satta hath se...   \n",
              "3                 Congress should not have done that   \n",
              "4  Nowadays politics is centered around what one'...   \n",
              "\n",
              "                                    cleaned_sentence  category sub-category  \n",
              "0  r modi ki kacchi fire might talk kacchi baat n...  negative    criticism  \n",
              "1                             bjp bhagao desh bachao  negative    criticism  \n",
              "2  dont worry sambit patra jald hi satta hath se ...  negative    criticism  \n",
              "3                                       congress not  negative    criticism  \n",
              "4  nowadays politics center around eat wear etcan...  negative    criticism  "
            ],
            "text/html": [
              "\n",
              "  <div id=\"df-a74101d2-b25f-4e6e-b055-537fc60c6b52\">\n",
              "    <div class=\"colab-df-container\">\n",
              "      <div>\n",
              "<style scoped>\n",
              "    .dataframe tbody tr th:only-of-type {\n",
              "        vertical-align: middle;\n",
              "    }\n",
              "\n",
              "    .dataframe tbody tr th {\n",
              "        vertical-align: top;\n",
              "    }\n",
              "\n",
              "    .dataframe thead th {\n",
              "        text-align: right;\n",
              "    }\n",
              "</style>\n",
              "<table border=\"1\" class=\"dataframe\">\n",
              "  <thead>\n",
              "    <tr style=\"text-align: right;\">\n",
              "      <th></th>\n",
              "      <th>username</th>\n",
              "      <th>orig_sentence</th>\n",
              "      <th>cleaned_sentence</th>\n",
              "      <th>category</th>\n",
              "      <th>sub-category</th>\n",
              "    </tr>\n",
              "  </thead>\n",
              "  <tbody>\n",
              "    <tr>\n",
              "      <th>0</th>\n",
              "      <td>ytComments_Course Facilitator</td>\n",
              "      <td>RSS is down now! Modi ki kacchi on fire too! N...</td>\n",
              "      <td>r modi ki kacchi fire might talk kacchi baat n...</td>\n",
              "      <td>negative</td>\n",
              "      <td>criticism</td>\n",
              "    </tr>\n",
              "    <tr>\n",
              "      <th>1</th>\n",
              "      <td>ytComments_Akhi Sucs</td>\n",
              "      <td>BJP BHAGAO DESH BACHAO</td>\n",
              "      <td>bjp bhagao desh bachao</td>\n",
              "      <td>negative</td>\n",
              "      <td>criticism</td>\n",
              "    </tr>\n",
              "    <tr>\n",
              "      <th>2</th>\n",
              "      <td>ytComments_kumarvinay</td>\n",
              "      <td>Don't worry sambit patra jald hi satta hath se...</td>\n",
              "      <td>dont worry sambit patra jald hi satta hath se ...</td>\n",
              "      <td>negative</td>\n",
              "      <td>criticism</td>\n",
              "    </tr>\n",
              "    <tr>\n",
              "      <th>3</th>\n",
              "      <td>ytComments_Wall</td>\n",
              "      <td>Congress should not have done that</td>\n",
              "      <td>congress not</td>\n",
              "      <td>negative</td>\n",
              "      <td>criticism</td>\n",
              "    </tr>\n",
              "    <tr>\n",
              "      <th>4</th>\n",
              "      <td>ytComments_Samuel Joseph</td>\n",
              "      <td>Nowadays politics is centered around what one'...</td>\n",
              "      <td>nowadays politics center around eat wear etcan...</td>\n",
              "      <td>negative</td>\n",
              "      <td>criticism</td>\n",
              "    </tr>\n",
              "  </tbody>\n",
              "</table>\n",
              "</div>\n",
              "      <button class=\"colab-df-convert\" onclick=\"convertToInteractive('df-a74101d2-b25f-4e6e-b055-537fc60c6b52')\"\n",
              "              title=\"Convert this dataframe to an interactive table.\"\n",
              "              style=\"display:none;\">\n",
              "        \n",
              "  <svg xmlns=\"http://www.w3.org/2000/svg\" height=\"24px\"viewBox=\"0 0 24 24\"\n",
              "       width=\"24px\">\n",
              "    <path d=\"M0 0h24v24H0V0z\" fill=\"none\"/>\n",
              "    <path d=\"M18.56 5.44l.94 2.06.94-2.06 2.06-.94-2.06-.94-.94-2.06-.94 2.06-2.06.94zm-11 1L8.5 8.5l.94-2.06 2.06-.94-2.06-.94L8.5 2.5l-.94 2.06-2.06.94zm10 10l.94 2.06.94-2.06 2.06-.94-2.06-.94-.94-2.06-.94 2.06-2.06.94z\"/><path d=\"M17.41 7.96l-1.37-1.37c-.4-.4-.92-.59-1.43-.59-.52 0-1.04.2-1.43.59L10.3 9.45l-7.72 7.72c-.78.78-.78 2.05 0 2.83L4 21.41c.39.39.9.59 1.41.59.51 0 1.02-.2 1.41-.59l7.78-7.78 2.81-2.81c.8-.78.8-2.07 0-2.86zM5.41 20L4 18.59l7.72-7.72 1.47 1.35L5.41 20z\"/>\n",
              "  </svg>\n",
              "      </button>\n",
              "      \n",
              "  <style>\n",
              "    .colab-df-container {\n",
              "      display:flex;\n",
              "      flex-wrap:wrap;\n",
              "      gap: 12px;\n",
              "    }\n",
              "\n",
              "    .colab-df-convert {\n",
              "      background-color: #E8F0FE;\n",
              "      border: none;\n",
              "      border-radius: 50%;\n",
              "      cursor: pointer;\n",
              "      display: none;\n",
              "      fill: #1967D2;\n",
              "      height: 32px;\n",
              "      padding: 0 0 0 0;\n",
              "      width: 32px;\n",
              "    }\n",
              "\n",
              "    .colab-df-convert:hover {\n",
              "      background-color: #E2EBFA;\n",
              "      box-shadow: 0px 1px 2px rgba(60, 64, 67, 0.3), 0px 1px 3px 1px rgba(60, 64, 67, 0.15);\n",
              "      fill: #174EA6;\n",
              "    }\n",
              "\n",
              "    [theme=dark] .colab-df-convert {\n",
              "      background-color: #3B4455;\n",
              "      fill: #D2E3FC;\n",
              "    }\n",
              "\n",
              "    [theme=dark] .colab-df-convert:hover {\n",
              "      background-color: #434B5C;\n",
              "      box-shadow: 0px 1px 3px 1px rgba(0, 0, 0, 0.15);\n",
              "      filter: drop-shadow(0px 1px 2px rgba(0, 0, 0, 0.3));\n",
              "      fill: #FFFFFF;\n",
              "    }\n",
              "  </style>\n",
              "\n",
              "      <script>\n",
              "        const buttonEl =\n",
              "          document.querySelector('#df-a74101d2-b25f-4e6e-b055-537fc60c6b52 button.colab-df-convert');\n",
              "        buttonEl.style.display =\n",
              "          google.colab.kernel.accessAllowed ? 'block' : 'none';\n",
              "\n",
              "        async function convertToInteractive(key) {\n",
              "          const element = document.querySelector('#df-a74101d2-b25f-4e6e-b055-537fc60c6b52');\n",
              "          const dataTable =\n",
              "            await google.colab.kernel.invokeFunction('convertToInteractive',\n",
              "                                                     [key], {});\n",
              "          if (!dataTable) return;\n",
              "\n",
              "          const docLinkHtml = 'Like what you see? Visit the ' +\n",
              "            '<a target=\"_blank\" href=https://colab.research.google.com/notebooks/data_table.ipynb>data table notebook</a>'\n",
              "            + ' to learn more about interactive tables.';\n",
              "          element.innerHTML = '';\n",
              "          dataTable['output_type'] = 'display_data';\n",
              "          await google.colab.output.renderOutput(dataTable, element);\n",
              "          const docLink = document.createElement('div');\n",
              "          docLink.innerHTML = docLinkHtml;\n",
              "          element.appendChild(docLink);\n",
              "        }\n",
              "      </script>\n",
              "    </div>\n",
              "  </div>\n",
              "  "
            ]
          },
          "metadata": {},
          "execution_count": 127
        }
      ]
    },
    {
      "cell_type": "code",
      "source": [
        "X_train.dropna(axis = 0, how ='any',inplace=True)"
      ],
      "metadata": {
        "execution": {
          "iopub.status.busy": "2022-09-26T05:15:44.827549Z",
          "iopub.execute_input": "2022-09-26T05:15:44.829443Z",
          "iopub.status.idle": "2022-09-26T05:15:44.838029Z",
          "shell.execute_reply.started": "2022-09-26T05:15:44.829401Z",
          "shell.execute_reply": "2022-09-26T05:15:44.836562Z"
        },
        "trusted": true,
        "id": "5JK6ZHOPU_cy"
      },
      "execution_count": 128,
      "outputs": []
    },
    {
      "cell_type": "markdown",
      "source": [],
      "metadata": {
        "id": "zQyHUosM3W34"
      }
    },
    {
      "cell_type": "code",
      "source": [
        "X = pd.concat([X_train['cleaned_sentence'] , aug_df['cleaned_sentence']])"
      ],
      "metadata": {
        "execution": {
          "iopub.status.busy": "2022-09-26T05:15:44.990810Z",
          "iopub.execute_input": "2022-09-26T05:15:44.991236Z",
          "iopub.status.idle": "2022-09-26T05:15:44.997686Z",
          "shell.execute_reply.started": "2022-09-26T05:15:44.991192Z",
          "shell.execute_reply": "2022-09-26T05:15:44.996063Z"
        },
        "trusted": true,
        "id": "q-IT3p6aU_cz"
      },
      "execution_count": 129,
      "outputs": []
    },
    {
      "cell_type": "code",
      "source": [
        "y = pd.concat([X_train['sub-category'], aug_df['sub-category']])"
      ],
      "metadata": {
        "execution": {
          "iopub.status.busy": "2022-09-26T05:15:45.113673Z",
          "iopub.execute_input": "2022-09-26T05:15:45.114503Z",
          "iopub.status.idle": "2022-09-26T05:15:45.121716Z",
          "shell.execute_reply.started": "2022-09-26T05:15:45.114472Z",
          "shell.execute_reply": "2022-09-26T05:15:45.119821Z"
        },
        "trusted": true,
        "id": "PbH6yAA8U_c0"
      },
      "execution_count": 130,
      "outputs": []
    },
    {
      "cell_type": "code",
      "source": [
        "y.value_counts()"
      ],
      "metadata": {
        "colab": {
          "base_uri": "https://localhost:8080/"
        },
        "id": "Ujf2ipYFtmWZ",
        "outputId": "a5752755-9793-41da-8cee-eaa3bc887bd4"
      },
      "execution_count": 131,
      "outputs": [
        {
          "output_type": "execute_result",
          "data": {
            "text/plain": [
              "criticism    1495\n",
              "hate         1491\n",
              "Name: sub-category, dtype: int64"
            ]
          },
          "metadata": {},
          "execution_count": 131
        }
      ]
    },
    {
      "cell_type": "code",
      "source": [],
      "metadata": {
        "id": "KdE3pUBxuCQh"
      },
      "execution_count": 271,
      "outputs": []
    },
    {
      "cell_type": "code",
      "source": [
        "lb = LabelEncoder()\n",
        "y_l = lb.fit_transform(y)"
      ],
      "metadata": {
        "execution": {
          "iopub.status.busy": "2022-09-26T05:15:45.302613Z",
          "iopub.execute_input": "2022-09-26T05:15:45.303402Z",
          "iopub.status.idle": "2022-09-26T05:15:45.311527Z",
          "shell.execute_reply.started": "2022-09-26T05:15:45.303365Z",
          "shell.execute_reply": "2022-09-26T05:15:45.310229Z"
        },
        "trusted": true,
        "id": "i3XSDTfgU_c1"
      },
      "execution_count": 132,
      "outputs": []
    },
    {
      "cell_type": "code",
      "source": [],
      "metadata": {
        "id": "V8-Xu7SIwiEf"
      },
      "execution_count": 132,
      "outputs": []
    },
    {
      "cell_type": "code",
      "source": [],
      "metadata": {
        "id": "m3Vdiy4GuFq1"
      },
      "execution_count": 132,
      "outputs": []
    },
    {
      "cell_type": "code",
      "source": [
        "lb.classes_"
      ],
      "metadata": {
        "execution": {
          "iopub.status.busy": "2022-09-26T05:15:45.404498Z",
          "iopub.execute_input": "2022-09-26T05:15:45.405538Z",
          "iopub.status.idle": "2022-09-26T05:15:45.416822Z",
          "shell.execute_reply.started": "2022-09-26T05:15:45.405491Z",
          "shell.execute_reply": "2022-09-26T05:15:45.415441Z"
        },
        "trusted": true,
        "colab": {
          "base_uri": "https://localhost:8080/"
        },
        "id": "CvyETWiPU_c1",
        "outputId": "d810959a-6e84-469d-c910-b76fe32ae604"
      },
      "execution_count": 133,
      "outputs": [
        {
          "output_type": "execute_result",
          "data": {
            "text/plain": [
              "array(['criticism', 'hate'], dtype=object)"
            ]
          },
          "metadata": {},
          "execution_count": 133
        }
      ]
    },
    {
      "cell_type": "code",
      "source": [],
      "metadata": {
        "execution": {
          "iopub.status.busy": "2022-09-26T05:15:45.571653Z",
          "iopub.execute_input": "2022-09-26T05:15:45.572321Z",
          "iopub.status.idle": "2022-09-26T05:15:45.578585Z",
          "shell.execute_reply.started": "2022-09-26T05:15:45.572289Z",
          "shell.execute_reply": "2022-09-26T05:15:45.576702Z"
        },
        "trusted": true,
        "id": "JWM9NYNpU_c2"
      },
      "execution_count": null,
      "outputs": []
    },
    {
      "cell_type": "code",
      "source": [
        "tfhub_handle_encoder = 'https://tfhub.dev/tensorflow/small_bert/bert_en_uncased_L-6_H-128_A-2/2'\n",
        "tfhub_handle_preprocess = 'https://tfhub.dev/tensorflow/bert_en_uncased_preprocess/3'"
      ],
      "metadata": {
        "execution": {
          "iopub.status.busy": "2022-09-26T05:15:45.727309Z",
          "iopub.execute_input": "2022-09-26T05:15:45.727659Z",
          "iopub.status.idle": "2022-09-26T05:15:45.733212Z",
          "shell.execute_reply.started": "2022-09-26T05:15:45.727632Z",
          "shell.execute_reply": "2022-09-26T05:15:45.731904Z"
        },
        "trusted": true,
        "id": "men1KNW_U_c3"
      },
      "execution_count": 134,
      "outputs": []
    },
    {
      "cell_type": "code",
      "source": [],
      "metadata": {
        "execution": {
          "iopub.status.busy": "2022-09-26T05:15:45.864439Z",
          "iopub.execute_input": "2022-09-26T05:15:45.866625Z",
          "iopub.status.idle": "2022-09-26T05:15:45.872885Z",
          "shell.execute_reply.started": "2022-09-26T05:15:45.866583Z",
          "shell.execute_reply": "2022-09-26T05:15:45.871548Z"
        },
        "trusted": true,
        "id": "oSYSboamU_c4"
      },
      "execution_count": 135,
      "outputs": []
    },
    {
      "cell_type": "code",
      "source": [
        "from sklearn.model_selection import train_test_split"
      ],
      "metadata": {
        "execution": {
          "iopub.status.busy": "2022-09-26T05:15:45.981794Z",
          "iopub.execute_input": "2022-09-26T05:15:45.982703Z",
          "iopub.status.idle": "2022-09-26T05:15:45.989740Z",
          "shell.execute_reply.started": "2022-09-26T05:15:45.982650Z",
          "shell.execute_reply": "2022-09-26T05:15:45.988112Z"
        },
        "trusted": true,
        "id": "zPEJHODUU_c5"
      },
      "execution_count": 136,
      "outputs": []
    },
    {
      "cell_type": "code",
      "source": [
        "X_t ,X_ts , y_t,y_ts = train_test_split(X,y_l,shuffle=True,test_size=0.25,random_state=2022,stratify=y)"
      ],
      "metadata": {
        "execution": {
          "iopub.status.busy": "2022-09-26T05:15:46.135355Z",
          "iopub.execute_input": "2022-09-26T05:15:46.136430Z",
          "iopub.status.idle": "2022-09-26T05:15:46.153288Z",
          "shell.execute_reply.started": "2022-09-26T05:15:46.136383Z",
          "shell.execute_reply": "2022-09-26T05:15:46.151710Z"
        },
        "trusted": true,
        "id": "K1Az6rl9U_c6"
      },
      "execution_count": 137,
      "outputs": []
    },
    {
      "cell_type": "code",
      "source": [
        "X_t.shape ,X_ts.shape , y_t.shape,y_ts.shape"
      ],
      "metadata": {
        "execution": {
          "iopub.status.busy": "2022-09-26T05:15:46.321227Z",
          "iopub.execute_input": "2022-09-26T05:15:46.322323Z",
          "iopub.status.idle": "2022-09-26T05:15:46.331372Z",
          "shell.execute_reply.started": "2022-09-26T05:15:46.322288Z",
          "shell.execute_reply": "2022-09-26T05:15:46.329848Z"
        },
        "trusted": true,
        "colab": {
          "base_uri": "https://localhost:8080/"
        },
        "id": "pekZ0YOlU_c7",
        "outputId": "d245e82b-eb20-44fd-e202-e23fba32078c"
      },
      "execution_count": 138,
      "outputs": [
        {
          "output_type": "execute_result",
          "data": {
            "text/plain": [
              "((2239,), (747,), (2239,), (747,))"
            ]
          },
          "metadata": {},
          "execution_count": 138
        }
      ]
    },
    {
      "cell_type": "code",
      "source": [
        "X_t = tf.convert_to_tensor(X_t)\n",
        "X_ts = tf.convert_to_tensor(X_ts)\n",
        "y_t = tf.convert_to_tensor(y_t)\n",
        "y_ts = tf.convert_to_tensor(y_ts)"
      ],
      "metadata": {
        "execution": {
          "iopub.status.busy": "2022-09-26T05:15:46.478973Z",
          "iopub.execute_input": "2022-09-26T05:15:46.479316Z",
          "iopub.status.idle": "2022-09-26T05:15:46.487431Z",
          "shell.execute_reply.started": "2022-09-26T05:15:46.479288Z",
          "shell.execute_reply": "2022-09-26T05:15:46.485816Z"
        },
        "trusted": true,
        "id": "h8pqHev_U_c7"
      },
      "execution_count": 139,
      "outputs": []
    },
    {
      "cell_type": "code",
      "source": [
        "y_t"
      ],
      "metadata": {
        "trusted": true,
        "colab": {
          "base_uri": "https://localhost:8080/"
        },
        "id": "yMiDi0WAU_c8",
        "outputId": "b0b8ee21-cc3e-468c-ef75-235f74c0509b"
      },
      "execution_count": 255,
      "outputs": [
        {
          "output_type": "execute_result",
          "data": {
            "text/plain": [
              "<tf.Tensor: shape=(2239,), dtype=int64, numpy=array([0, 1, 1, ..., 0, 1, 0])>"
            ]
          },
          "metadata": {},
          "execution_count": 255
        }
      ]
    },
    {
      "cell_type": "code",
      "source": [
        "BATCH_SIZE = 16\n",
        "SHUFFLE_BUFFER_SIZE = 100\n",
        "\n"
      ],
      "metadata": {
        "execution": {
          "iopub.status.busy": "2022-09-26T05:15:46.803602Z",
          "iopub.execute_input": "2022-09-26T05:15:46.806441Z",
          "iopub.status.idle": "2022-09-26T05:15:46.812476Z",
          "shell.execute_reply.started": "2022-09-26T05:15:46.806408Z",
          "shell.execute_reply": "2022-09-26T05:15:46.810386Z"
        },
        "trusted": true,
        "id": "ezpU7TvyU_c8"
      },
      "execution_count": 140,
      "outputs": []
    },
    {
      "cell_type": "code",
      "source": [
        "def build_classifier_model():\n",
        "  text_input = tf.keras.layers.Input(shape=(), dtype=tf.string, name='text')\n",
        "  preprocessing_layer = hub.KerasLayer(tfhub_handle_preprocess, name='preprocessing')\n",
        "  encoder_inputs = preprocessing_layer(text_input)\n",
        "  encoder = hub.KerasLayer(tfhub_handle_encoder, trainable=True, name='BERT_encoder')\n",
        "  outputs = encoder(encoder_inputs)\n",
        "  net = outputs['pooled_output']\n",
        "  net = tf.keras.layers.Dropout(0.1)(net)\n",
        "  net =  tf.keras.layers.Dense(64, activation='relu')(net)\n",
        "  net = tf.keras.layers.Dense(2, activation='softmax', name='classifier')(net)\n",
        "  return tf.keras.Model(text_input, net)"
      ],
      "metadata": {
        "execution": {
          "iopub.status.busy": "2022-09-26T05:15:46.980943Z",
          "iopub.execute_input": "2022-09-26T05:15:46.982018Z",
          "iopub.status.idle": "2022-09-26T05:15:46.991267Z",
          "shell.execute_reply.started": "2022-09-26T05:15:46.981959Z",
          "shell.execute_reply": "2022-09-26T05:15:46.989946Z"
        },
        "trusted": true,
        "id": "XHPiTjCuU_c9"
      },
      "execution_count": 263,
      "outputs": []
    },
    {
      "cell_type": "code",
      "source": [
        "classifier_model = build_classifier_model()"
      ],
      "metadata": {
        "execution": {
          "iopub.status.busy": "2022-09-26T05:15:47.324085Z",
          "iopub.execute_input": "2022-09-26T05:15:47.324457Z",
          "iopub.status.idle": "2022-09-26T05:15:58.490328Z",
          "shell.execute_reply.started": "2022-09-26T05:15:47.324428Z",
          "shell.execute_reply": "2022-09-26T05:15:58.488945Z"
        },
        "trusted": true,
        "id": "DiF0-bdOU_c-"
      },
      "execution_count": 264,
      "outputs": []
    },
    {
      "cell_type": "code",
      "source": [
        "loss = tf.keras.losses.SparseCategoricalCrossentropy()\n",
        "metrics = tf.metrics.SparseCategoricalAccuracy()"
      ],
      "metadata": {
        "execution": {
          "iopub.status.busy": "2022-09-26T05:15:58.492717Z",
          "iopub.execute_input": "2022-09-26T05:15:58.494391Z",
          "iopub.status.idle": "2022-09-26T05:15:58.505157Z",
          "shell.execute_reply.started": "2022-09-26T05:15:58.494344Z",
          "shell.execute_reply": "2022-09-26T05:15:58.503647Z"
        },
        "trusted": true,
        "id": "a7O-bfmeU_c_"
      },
      "execution_count": 265,
      "outputs": []
    },
    {
      "cell_type": "code",
      "source": [
        "X.shape[0]"
      ],
      "metadata": {
        "execution": {
          "iopub.status.busy": "2022-09-26T05:15:58.507217Z",
          "iopub.execute_input": "2022-09-26T05:15:58.508161Z",
          "iopub.status.idle": "2022-09-26T05:15:58.521238Z",
          "shell.execute_reply.started": "2022-09-26T05:15:58.508103Z",
          "shell.execute_reply": "2022-09-26T05:15:58.518719Z"
        },
        "trusted": true,
        "colab": {
          "base_uri": "https://localhost:8080/"
        },
        "id": "hguRZyu-U_c_",
        "outputId": "c514f3eb-c3a5-47bc-9186-549b3eef51b7"
      },
      "execution_count": 266,
      "outputs": [
        {
          "output_type": "execute_result",
          "data": {
            "text/plain": [
              "2986"
            ]
          },
          "metadata": {},
          "execution_count": 266
        }
      ]
    },
    {
      "cell_type": "code",
      "source": [
        "epochs = 10\n",
        "steps_per_epoch = X.shape[0]//16\n",
        "num_train_steps = steps_per_epoch * epochs\n",
        "num_warmup_steps = int(0.1*num_train_steps)\n",
        "\n",
        "init_lr = 3e-5\n",
        "optimizer = optimization.create_optimizer(init_lr=init_lr,\n",
        "                                          num_train_steps=num_train_steps,\n",
        "                                          num_warmup_steps=num_warmup_steps,\n",
        "                                          optimizer_type='adamw')"
      ],
      "metadata": {
        "execution": {
          "iopub.status.busy": "2022-09-26T05:15:58.525440Z",
          "iopub.execute_input": "2022-09-26T05:15:58.525905Z",
          "iopub.status.idle": "2022-09-26T05:15:58.535479Z",
          "shell.execute_reply.started": "2022-09-26T05:15:58.525860Z",
          "shell.execute_reply": "2022-09-26T05:15:58.533621Z"
        },
        "trusted": true,
        "id": "oROqsITgU_dA"
      },
      "execution_count": 267,
      "outputs": []
    },
    {
      "cell_type": "code",
      "source": [
        "classifier_model.compile(optimizer=optimizer,\n",
        "                         loss=loss,\n",
        "                         metrics=metrics)"
      ],
      "metadata": {
        "execution": {
          "iopub.status.busy": "2022-09-26T05:15:58.538105Z",
          "iopub.execute_input": "2022-09-26T05:15:58.538655Z",
          "iopub.status.idle": "2022-09-26T05:15:58.553003Z",
          "shell.execute_reply.started": "2022-09-26T05:15:58.538607Z",
          "shell.execute_reply": "2022-09-26T05:15:58.551563Z"
        },
        "trusted": true,
        "id": "31SOQEmFU_dB"
      },
      "execution_count": 268,
      "outputs": []
    },
    {
      "cell_type": "code",
      "source": [
        "print(f'Training model with {tfhub_handle_encoder}')\n",
        "history = classifier_model.fit(x=X_t,\n",
        "                               y = y_t,\n",
        "                               shuffle=True,\n",
        "                               validation_data=(X_ts,y_ts),\n",
        "                               batch_size=BATCH_SIZE,\n",
        "                               epochs=epochs)"
      ],
      "metadata": {
        "execution": {
          "iopub.status.busy": "2022-09-26T05:15:58.555618Z",
          "iopub.execute_input": "2022-09-26T05:15:58.556377Z",
          "iopub.status.idle": "2022-09-26T05:17:07.687909Z",
          "shell.execute_reply.started": "2022-09-26T05:15:58.556149Z",
          "shell.execute_reply": "2022-09-26T05:17:07.686515Z"
        },
        "trusted": true,
        "colab": {
          "base_uri": "https://localhost:8080/"
        },
        "id": "xgDe56NOU_dC",
        "outputId": "706097c1-483d-4dbb-da56-a0d2b6b09bfc"
      },
      "execution_count": 269,
      "outputs": [
        {
          "output_type": "stream",
          "name": "stdout",
          "text": [
            "Training model with https://tfhub.dev/tensorflow/small_bert/bert_en_uncased_L-6_H-128_A-2/2\n",
            "Epoch 1/10\n",
            "140/140 [==============================] - 15s 57ms/step - loss: 0.7057 - sparse_categorical_accuracy: 0.5574 - val_loss: 0.6367 - val_sparse_categorical_accuracy: 0.6533\n",
            "Epoch 2/10\n",
            "140/140 [==============================] - 7s 53ms/step - loss: 0.5943 - sparse_categorical_accuracy: 0.6860 - val_loss: 0.5366 - val_sparse_categorical_accuracy: 0.7349\n",
            "Epoch 3/10\n",
            "140/140 [==============================] - 7s 54ms/step - loss: 0.5008 - sparse_categorical_accuracy: 0.7615 - val_loss: 0.4795 - val_sparse_categorical_accuracy: 0.7831\n",
            "Epoch 4/10\n",
            "140/140 [==============================] - 7s 53ms/step - loss: 0.4267 - sparse_categorical_accuracy: 0.8071 - val_loss: 0.4185 - val_sparse_categorical_accuracy: 0.8233\n",
            "Epoch 5/10\n",
            "140/140 [==============================] - 7s 54ms/step - loss: 0.3560 - sparse_categorical_accuracy: 0.8553 - val_loss: 0.3819 - val_sparse_categorical_accuracy: 0.8447\n",
            "Epoch 6/10\n",
            "140/140 [==============================] - 7s 53ms/step - loss: 0.2945 - sparse_categorical_accuracy: 0.8830 - val_loss: 0.3662 - val_sparse_categorical_accuracy: 0.8474\n",
            "Epoch 7/10\n",
            "140/140 [==============================] - 8s 54ms/step - loss: 0.2526 - sparse_categorical_accuracy: 0.9084 - val_loss: 0.3539 - val_sparse_categorical_accuracy: 0.8568\n",
            "Epoch 8/10\n",
            "140/140 [==============================] - 7s 53ms/step - loss: 0.2259 - sparse_categorical_accuracy: 0.9093 - val_loss: 0.3625 - val_sparse_categorical_accuracy: 0.8635\n",
            "Epoch 9/10\n",
            "140/140 [==============================] - 7s 53ms/step - loss: 0.2081 - sparse_categorical_accuracy: 0.9232 - val_loss: 0.3243 - val_sparse_categorical_accuracy: 0.8809\n",
            "Epoch 10/10\n",
            "140/140 [==============================] - 8s 54ms/step - loss: 0.2024 - sparse_categorical_accuracy: 0.9299 - val_loss: 0.3278 - val_sparse_categorical_accuracy: 0.8862\n"
          ]
        }
      ]
    },
    {
      "cell_type": "code",
      "source": [
        "classifier_model.save(\"/content/smallBert\" ,include_optimizer=False)"
      ],
      "metadata": {
        "colab": {
          "base_uri": "https://localhost:8080/"
        },
        "id": "B2RzQ_osU_dD",
        "outputId": "2748a296-0bbd-4bb4-8593-65e9451cb821"
      },
      "execution_count": 199,
      "outputs": [
        {
          "output_type": "stream",
          "name": "stderr",
          "text": [
            "WARNING:absl:Found untraced functions such as restored_function_body, restored_function_body, restored_function_body, restored_function_body, restored_function_body while saving (showing 5 of 186). These functions will not be directly callable after loading.\n"
          ]
        }
      ]
    },
    {
      "cell_type": "code",
      "source": [
        "classifier_model.summary()"
      ],
      "metadata": {
        "colab": {
          "base_uri": "https://localhost:8080/"
        },
        "id": "bOZejF8MJqfm",
        "outputId": "a2f52b69-a985-47d8-ab59-66c8c686b033"
      },
      "execution_count": 270,
      "outputs": [
        {
          "output_type": "stream",
          "name": "stdout",
          "text": [
            "Model: \"model_3\"\n",
            "__________________________________________________________________________________________________\n",
            " Layer (type)                   Output Shape         Param #     Connected to                     \n",
            "==================================================================================================\n",
            " text (InputLayer)              [(None,)]            0           []                               \n",
            "                                                                                                  \n",
            " preprocessing (KerasLayer)     {'input_word_ids':   0           ['text[0][0]']                   \n",
            "                                (None, 128),                                                      \n",
            "                                 'input_type_ids':                                                \n",
            "                                (None, 128),                                                      \n",
            "                                 'input_mask': (Non                                               \n",
            "                                e, 128)}                                                          \n",
            "                                                                                                  \n",
            " BERT_encoder (KerasLayer)      {'default': (None,   5179009     ['preprocessing[0][0]',          \n",
            "                                128),                             'preprocessing[0][1]',          \n",
            "                                 'sequence_output':               'preprocessing[0][2]']          \n",
            "                                 (None, 128, 128),                                                \n",
            "                                 'pooled_output': (                                               \n",
            "                                None, 128),                                                       \n",
            "                                 'encoder_outputs':                                               \n",
            "                                 [(None, 128, 128),                                               \n",
            "                                 (None, 128, 128),                                                \n",
            "                                 (None, 128, 128),                                                \n",
            "                                 (None, 128, 128),                                                \n",
            "                                 (None, 128, 128),                                                \n",
            "                                 (None, 128, 128)]}                                               \n",
            "                                                                                                  \n",
            " dropout_3 (Dropout)            (None, 128)          0           ['BERT_encoder[0][7]']           \n",
            "                                                                                                  \n",
            " dense_3 (Dense)                (None, 64)           8256        ['dropout_3[0][0]']              \n",
            "                                                                                                  \n",
            " classifier (Dense)             (None, 2)            130         ['dense_3[0][0]']                \n",
            "                                                                                                  \n",
            "==================================================================================================\n",
            "Total params: 5,187,395\n",
            "Trainable params: 5,187,394\n",
            "Non-trainable params: 1\n",
            "__________________________________________________________________________________________________\n"
          ]
        }
      ]
    },
    {
      "cell_type": "code",
      "source": [],
      "metadata": {
        "id": "Bl783FWvEkgr"
      },
      "execution_count": 253,
      "outputs": []
    },
    {
      "cell_type": "code",
      "source": [
        "loss_df = pd.DataFrame(history.history)"
      ],
      "metadata": {
        "id": "yT0ogDWNErjF"
      },
      "execution_count": 251,
      "outputs": []
    },
    {
      "cell_type": "code",
      "source": [
        "tf.keras.utils.plot_model(classifier_model)"
      ],
      "metadata": {
        "colab": {
          "base_uri": "https://localhost:8080/",
          "height": 564
        },
        "id": "qImehYH_KD-L",
        "outputId": "b51494f6-d72a-45d8-f3b5-1268ade11001"
      },
      "execution_count": 271,
      "outputs": [
        {
          "output_type": "execute_result",
          "data": {
            "image/png": "[encoded data removed]",
            "text/plain": [
              "<IPython.core.display.Image object>"
            ]
          },
          "metadata": {},
          "execution_count": 271
        }
      ]
    },
    {
      "cell_type": "code",
      "source": [
        "plot_model_performance_graph(loss_df)"
      ],
      "metadata": {
        "colab": {
          "base_uri": "https://localhost:8080/",
          "height": 441
        },
        "id": "s75WjzzQDp7w",
        "outputId": "21119be0-507d-42d5-cdaf-6c6373215797"
      },
      "execution_count": 254,
      "outputs": [
        {
          "output_type": "display_data",
          "data": {
            "text/plain": [
              "<Figure size 1080x432 with 2 Axes>"
            ],
            "image/png": "[encoded data removed]"
          },
          "metadata": {
            "needs_background": "light"
          }
        }
      ]
    },
    {
      "cell_type": "code",
      "source": [
        "y_out = tf.nn.softmax(classifier_model.predict(['it should not be like that its wrong ']))"
      ],
      "metadata": {
        "execution": {
          "iopub.status.busy": "2022-09-26T05:23:15.871417Z",
          "iopub.execute_input": "2022-09-26T05:23:15.871836Z",
          "iopub.status.idle": "2022-09-26T05:23:15.973556Z",
          "shell.execute_reply.started": "2022-09-26T05:23:15.871806Z",
          "shell.execute_reply": "2022-09-26T05:23:15.972120Z"
        },
        "trusted": true,
        "id": "6CQa997NU_dE"
      },
      "execution_count": 205,
      "outputs": []
    },
    {
      "cell_type": "code",
      "source": [
        "y_out"
      ],
      "metadata": {
        "colab": {
          "base_uri": "https://localhost:8080/"
        },
        "id": "y06eKeZs8f7j",
        "outputId": "d2f9a63d-1be8-42d2-e963-6ffd1648b609"
      },
      "execution_count": 206,
      "outputs": [
        {
          "output_type": "execute_result",
          "data": {
            "text/plain": [
              "<tf.Tensor: shape=(1, 2), dtype=float32, numpy=array([[0.72542256, 0.27457744]], dtype=float32)>"
            ]
          },
          "metadata": {},
          "execution_count": 206
        }
      ]
    },
    {
      "cell_type": "code",
      "source": [
        "y_lab = np.argmax(y_out.numpy(),axis = 1)"
      ],
      "metadata": {
        "execution": {
          "iopub.status.busy": "2022-09-26T05:23:16.108014Z",
          "iopub.execute_input": "2022-09-26T05:23:16.108870Z",
          "iopub.status.idle": "2022-09-26T05:23:16.116243Z",
          "shell.execute_reply.started": "2022-09-26T05:23:16.108827Z",
          "shell.execute_reply": "2022-09-26T05:23:16.114368Z"
        },
        "trusted": true,
        "id": "de7wdsdSU_dE"
      },
      "execution_count": 207,
      "outputs": []
    },
    {
      "cell_type": "code",
      "source": [
        "y_clsses = lb.inverse_transform(y_lab)"
      ],
      "metadata": {
        "execution": {
          "iopub.status.busy": "2022-09-26T05:23:16.343021Z",
          "iopub.execute_input": "2022-09-26T05:23:16.343474Z",
          "iopub.status.idle": "2022-09-26T05:23:16.350696Z",
          "shell.execute_reply.started": "2022-09-26T05:23:16.343444Z",
          "shell.execute_reply": "2022-09-26T05:23:16.349108Z"
        },
        "trusted": true,
        "id": "tGHUXlm_U_dF"
      },
      "execution_count": 208,
      "outputs": []
    },
    {
      "cell_type": "code",
      "source": [
        "y_clsses"
      ],
      "metadata": {
        "execution": {
          "iopub.status.busy": "2022-09-26T05:23:16.570030Z",
          "iopub.execute_input": "2022-09-26T05:23:16.571027Z",
          "iopub.status.idle": "2022-09-26T05:23:16.581642Z",
          "shell.execute_reply.started": "2022-09-26T05:23:16.570983Z",
          "shell.execute_reply": "2022-09-26T05:23:16.580307Z"
        },
        "trusted": true,
        "colab": {
          "base_uri": "https://localhost:8080/"
        },
        "id": "NEvnca_pU_dF",
        "outputId": "c7ac1c66-bde7-4e79-b515-bcfcdcae682a"
      },
      "execution_count": 209,
      "outputs": [
        {
          "output_type": "execute_result",
          "data": {
            "text/plain": [
              "array(['criticism'], dtype=object)"
            ]
          },
          "metadata": {},
          "execution_count": 209
        }
      ]
    },
    {
      "cell_type": "code",
      "source": [
        "submission = pd.DataFrame({\n",
        "    'id': test_df.iloc[:,0],\n",
        "    'labels': y_clsses\n",
        "})"
      ],
      "metadata": {
        "execution": {
          "iopub.status.busy": "2022-09-26T05:22:59.582300Z",
          "iopub.execute_input": "2022-09-26T05:22:59.583245Z",
          "iopub.status.idle": "2022-09-26T05:22:59.628334Z",
          "shell.execute_reply.started": "2022-09-26T05:22:59.583198Z",
          "shell.execute_reply": "2022-09-26T05:22:59.625095Z"
        },
        "trusted": true,
        "colab": {
          "base_uri": "https://localhost:8080/",
          "height": 217
        },
        "id": "Cw6-3sgBU_dG",
        "outputId": "66ba516b-152b-4e7b-e597-6b4381e436e5"
      },
      "execution_count": 186,
      "outputs": [
        {
          "output_type": "error",
          "ename": "NameError",
          "evalue": "ignored",
          "traceback": [
            "\u001b[0;31m---------------------------------------------------------------------------\u001b[0m",
            "\u001b[0;31mNameError\u001b[0m                                 Traceback (most recent call last)",
            "\u001b[0;32m<ipython-input-186-59e5315bf275>\u001b[0m in \u001b[0;36m<module>\u001b[0;34m\u001b[0m\n\u001b[1;32m      1\u001b[0m submission = pd.DataFrame({\n\u001b[0;32m----> 2\u001b[0;31m     \u001b[0;34m'id'\u001b[0m\u001b[0;34m:\u001b[0m \u001b[0mtest_df\u001b[0m\u001b[0;34m.\u001b[0m\u001b[0miloc\u001b[0m\u001b[0;34m[\u001b[0m\u001b[0;34m:\u001b[0m\u001b[0;34m,\u001b[0m\u001b[0;36m0\u001b[0m\u001b[0;34m]\u001b[0m\u001b[0;34m,\u001b[0m\u001b[0;34m\u001b[0m\u001b[0;34m\u001b[0m\u001b[0m\n\u001b[0m\u001b[1;32m      3\u001b[0m     \u001b[0;34m'labels'\u001b[0m\u001b[0;34m:\u001b[0m \u001b[0my_clsses\u001b[0m\u001b[0;34m\u001b[0m\u001b[0;34m\u001b[0m\u001b[0m\n\u001b[1;32m      4\u001b[0m })\n",
            "\u001b[0;31mNameError\u001b[0m: name 'test_df' is not defined"
          ]
        }
      ]
    },
    {
      "cell_type": "code",
      "source": [
        "submission.to_csv('submission.csv',index=False)"
      ],
      "metadata": {
        "execution": {
          "iopub.status.busy": "2022-09-24T18:55:58.740983Z",
          "iopub.status.idle": "2022-09-24T18:55:58.741635Z",
          "shell.execute_reply.started": "2022-09-24T18:55:58.741399Z",
          "shell.execute_reply": "2022-09-24T18:55:58.74142Z"
        },
        "trusted": true,
        "id": "OftRVOXwU_dG"
      },
      "execution_count": null,
      "outputs": []
    },
    {
      "cell_type": "code",
      "source": [
        "# dataset_name = 'tweets'\n",
        "# saved_model_path = './{}_bert.h5'.format(dataset_name.replace('/', '_'))\n",
        "\n",
        "# classifier_model.save(saved_model_path, include_optimizer=False)"
      ],
      "metadata": {
        "execution": {
          "iopub.status.busy": "2022-09-24T18:55:58.743168Z",
          "iopub.status.idle": "2022-09-24T18:55:58.743947Z",
          "shell.execute_reply.started": "2022-09-24T18:55:58.743684Z",
          "shell.execute_reply": "2022-09-24T18:55:58.743708Z"
        },
        "trusted": true,
        "id": "t9wZQ2jGU_dH"
      },
      "execution_count": null,
      "outputs": []
    },
    {
      "cell_type": "code",
      "source": [
        "from visualization_module import  *"
      ],
      "metadata": {
        "id": "4153x7ed-ube"
      },
      "execution_count": 210,
      "outputs": []
    },
    {
      "cell_type": "code",
      "source": [
        "y_test = tf.nn.softmax(classifier_model.predict(X_ts))\n",
        "y_lab = np.argmax(y_test.numpy(),axis = 1)"
      ],
      "metadata": {
        "id": "y-BC-hbR_XKT"
      },
      "execution_count": 211,
      "outputs": []
    },
    {
      "cell_type": "code",
      "source": [
        "from sklearn.metrics import confusion_matrix,classification_report"
      ],
      "metadata": {
        "id": "ghcTTbOFBHem"
      },
      "execution_count": 219,
      "outputs": []
    },
    {
      "cell_type": "code",
      "source": [
        "matrix = confusion_matrix(y_ts,y_lab)"
      ],
      "metadata": {
        "id": "9N0VX-pt-0a2"
      },
      "execution_count": 226,
      "outputs": []
    },
    {
      "cell_type": "code",
      "source": [
        "plot_confusion_matrix(matrix,['Criticism' , 'Hate'])"
      ],
      "metadata": {
        "colab": {
          "base_uri": "https://localhost:8080/",
          "height": 455
        },
        "id": "ZVMkwE9v_84s",
        "outputId": "2dceabae-cf62-44d2-fca3-678371ad77e6"
      },
      "execution_count": 227,
      "outputs": [
        {
          "output_type": "display_data",
          "data": {
            "text/plain": [
              "<Figure size 1080x432 with 2 Axes>"
            ],
            "image/png": "[encoded data removed]"
          },
          "metadata": {
            "needs_background": "light"
          }
        }
      ]
    },
    {
      "cell_type": "code",
      "source": [
        "cr = classification_report(y_ts,y_lab)"
      ],
      "metadata": {
        "id": "O3UnRhbCBQWw"
      },
      "execution_count": 228,
      "outputs": []
    },
    {
      "cell_type": "code",
      "source": [
        "print(cr)"
      ],
      "metadata": {
        "colab": {
          "base_uri": "https://localhost:8080/"
        },
        "id": "YJ7yG6f5Cx8K",
        "outputId": "47697a2a-7b85-449a-899a-8ce847fa46ac"
      },
      "execution_count": 229,
      "outputs": [
        {
          "output_type": "stream",
          "name": "stdout",
          "text": [
            "              precision    recall  f1-score   support\n",
            "\n",
            "           0       0.85      0.90      0.87       374\n",
            "           1       0.89      0.84      0.87       373\n",
            "\n",
            "    accuracy                           0.87       747\n",
            "   macro avg       0.87      0.87      0.87       747\n",
            "weighted avg       0.87      0.87      0.87       747\n",
            "\n"
          ]
        }
      ]
    },
    {
      "cell_type": "code",
      "source": [],
      "metadata": {
        "id": "NMyN7bq5C4m5"
      },
      "execution_count": null,
      "outputs": []
    }
  ]
}