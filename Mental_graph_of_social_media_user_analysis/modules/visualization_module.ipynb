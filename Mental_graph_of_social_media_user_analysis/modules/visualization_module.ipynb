{
  "nbformat": 4,
  "nbformat_minor": 0,
  "metadata": {
    "colab": {
      "provenance": [],
      "collapsed_sections": []
    },
    "kernelspec": {
      "name": "python3",
      "display_name": "Python 3"
    },
    "language_info": {
      "name": "python"
    }
  },
  "cells": [
    {
      "cell_type": "code",
      "source": [
        "from collections import Counter\n",
        "import random\n",
        "import numpy as np\n",
        "\n",
        "import matplotlib.pyplot as plt\n",
        "%matplotlib inline\n",
        "\n",
        "from sklearn.manifold import TSNE\n",
        "from wordcloud import WordCloud\n",
        "\n",
        "import itertools\n"
      ],
      "metadata": {
        "id": "NvoWyTxRQrpP"
      },
      "execution_count": null,
      "outputs": []
    },
    {
      "cell_type": "code",
      "execution_count": null,
      "metadata": {
        "id": "tvz7WTDMZ8Yb"
      },
      "outputs": [],
      "source": [
        "#Visualization_1\n",
        "def plot_category_counts(df, title):\n",
        "    category_cnt = Counter(df)\n",
        "\n",
        "    plt.figure(figsize=(16,8))\n",
        "    plt.bar(category_cnt.keys(), category_cnt.values())\n",
        "    plt.title(title)\n",
        "\n",
        "    return None"
      ]
    },
    {
      "cell_type": "code",
      "source": [
        "def plot_wordcloud(df):\n",
        "\n",
        "    # text = open('/content/drive/MyDrive/CDAC-SELF/CDAC_PROJECT/Mental_Graph_Of_User_Using_Social_Media_Posts/project_code/files/cleaned/merged_cleaned.csv').read()\n",
        "    df.cleaned_sentence\n",
        "\n",
        "    wordcloud = WordCloud().generate(text)\n",
        "\n",
        "\n",
        "    # Generate plot\n",
        "    plt.imshow(wordcloud)\n",
        "    plt.axis(\"off\")\n",
        "    plt.show()\n"
      ],
      "metadata": {
        "id": "u2QNSBISaVEU"
      },
      "execution_count": null,
      "outputs": []
    },
    {
      "cell_type": "code",
      "source": [
        "def word2token(word):\n",
        "    try:\n",
        "        return w2v_model.wv.vocab[word].index\n",
        "    except KeyError:\n",
        "        return 0\n",
        "def token2word(w2v_model, token):\n",
        "    return w2v_model.wv.index2word[token]\n",
        "\n",
        "\n",
        "\n",
        "def plot_word2vec_embedding_by_tsne(w2v_model, w2v_vocab_size, plot_n_words=100):\n",
        "    n_samples = plot_n_words\n",
        "    # Sample random words from model dictionary\n",
        "    random_i = random.sample(range(w2v_vocab_size), n_samples)\n",
        "    random_w = [token2word(w2v_model, i) for i in random_i]\n",
        "\n",
        "    # Generate Word2Vec embeddings of each word\n",
        "    word_vecs = np.array([w2v_model[w] for w in random_w])\n",
        "\n",
        "    # Apply t-SNE to Word2Vec embeddings, reducing to 2 dims\n",
        "    tsne = TSNE()\n",
        "    tsne_e = tsne.fit_transform(word_vecs)\n",
        "\n",
        "    # Plot t-SNE result\n",
        "    plt.figure(figsize=(24, 20))\n",
        "    plt.scatter(tsne_e[:, 0], tsne_e[:, 1], marker='o', c=range(len(random_w)), cmap=plt.get_cmap('Spectral'))\n",
        "\n",
        "    for label, x, y, in zip(random_w, tsne_e[:, 0], tsne_e[:, 1]):\n",
        "        plt.annotate(label,\n",
        "                    xy=(x, y), xytext=(0, 15),\n",
        "                    textcoords='offset points', ha='right', va='bottom',\n",
        "                    bbox=dict(boxstyle='round, pad=0.2', fc='yellow', alpha=0.1))\n",
        "\n",
        "    return None"
      ],
      "metadata": {
        "id": "f0JPrG5nPeKI"
      },
      "execution_count": null,
      "outputs": []
    },
    {
      "cell_type": "code",
      "source": [
        "def plot_model_performance_graph(hist_df):\n",
        "    \n",
        "    fig, axes = plt.subplots(1,2 , figsize = (15,6))\n",
        "\n",
        "    # properties  matplotlib.patch.Patch \n",
        "    props = dict(boxstyle='round', facecolor='aqua', alpha=0.4)\n",
        "\n",
        "    ax = axes[0]\n",
        "\n",
        "    hist_df.plot(y = ['loss','val_loss'], ax = ax, colormap=\"cividis\")\n",
        "\n",
        "    lossmin = hist_df['loss'].min()\n",
        "\n",
        "    testmin = hist_df['val_loss'].min()\n",
        "\n",
        "    # little beautification\n",
        "    txtstr = \"Min Loss: \\n Training : {:7.4f}\\n Testing   : {:7.4f}\".format(lossmin,\n",
        "                                                                            testmin) #text to plot\n",
        "\n",
        "    # place a text box in upper left in axes coords\n",
        "\n",
        "    ax.text(0.4, 0.95, txtstr, transform=ax.transAxes, fontsize=14,\n",
        "            verticalalignment='top', bbox=props)\n",
        "\n",
        "    ax.set_xlabel(\"Epochs\")\n",
        "\n",
        "    ax.set_ylabel(\"Loss\")\n",
        "\n",
        "    ax.grid();\n",
        "\n",
        "    ax = axes[1]\n",
        "\n",
        "    hist_df.plot( y = ['accuracy', 'val_accuracy'], ax = ax, colormap=\"cividis\")\n",
        "    acc = hist_df['accuracy'].values\n",
        "    # little beautification\n",
        "    accmax = hist_df['accuracy'].max()\n",
        "    testmax = hist_df['val_accuracy'].max()\n",
        "    txtstr = \"Max Accuracy: \\n Training : {:7.4f}\\n Testing   : {:7.4f}\".format(accmax,\n",
        "                                                                                testmax) #text to plot\n",
        "\n",
        "    # place a text box in upper left in axes coords\n",
        "\n",
        "    ax.text(0.4, 0.5, txtstr, transform=ax.transAxes, fontsize=14,\n",
        "            verticalalignment='top', bbox=props)\n",
        "\n",
        "    ax.set_xlabel(\"Epochs\")\n",
        "    ax.set_ylabel(\"Accuracy\")\n",
        "    ax.grid();\n",
        "    plt.tight_layout()"
      ],
      "metadata": {
        "id": "my4sQlUplg4k"
      },
      "execution_count": null,
      "outputs": []
    },
    {
      "cell_type": "code",
      "source": [
        "def plot_confusion_matrix(cm, classes,\n",
        "                          normalize=False,\n",
        "                          title='Confusion matrix',\n",
        "                          cmap=plt.cm.Blues):\n",
        "    \"\"\"\n",
        "    This function prints and plots the confusion matrix.\n",
        "    Normalization can be applied by setting `normalize=True`.\n",
        "    \"\"\"\n",
        "    plt.figure(figsize=(15,6))\n",
        "    plt.imshow(cm, interpolation='nearest', cmap=cmap)\n",
        "    plt.title(title)\n",
        "    plt.colorbar()\n",
        "    tick_marks = np.arange(len(classes))\n",
        "    plt.xticks(tick_marks, classes, rotation=45)\n",
        "    plt.yticks(tick_marks, classes)\n",
        "\n",
        "    if normalize:\n",
        "        cm = cm.astype('float') / cm.sum(axis=1)[:, np.newaxis]\n",
        "\n",
        "    thresh = cm.max() / 2.\n",
        "    for i, j in itertools.product(range(cm.shape[0]), range(cm.shape[1])):\n",
        "        plt.text(j, i, cm[i, j],\n",
        "                 horizontalalignment=\"center\",\n",
        "                 color=\"white\" if cm[i, j] > thresh else \"black\")\n",
        "\n",
        "    plt.tight_layout()\n",
        "    plt.ylabel('True label')\n",
        "    plt.xlabel('Predicted label')"
      ],
      "metadata": {
        "id": "hDJxvB3slgjv"
      },
      "execution_count": null,
      "outputs": []
    }
  ]
}